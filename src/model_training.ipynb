{
 "cells": [
  {
   "cell_type": "markdown",
   "metadata": {},
   "source": [
    "# Model Training Notebook\n",
    "\n",
    "In this notebook, we train 3 models on the preprocessed data and make predictions on the test data. \n",
    "\n",
    "As we are doing binary classification, the models used are Naive Bayes, SVM, and Logistic Regression"
   ]
  },
  {
   "cell_type": "markdown",
   "metadata": {},
   "source": [
    "### Load Training and Test Data"
   ]
  },
  {
   "cell_type": "code",
   "execution_count": 12,
   "metadata": {},
   "outputs": [
    {
     "name": "stdout",
     "output_type": "stream",
     "text": [
      "   Unnamed: 0  HomePlanet  CryoSleep  Destination   Age    VIP  RoomService  \\\n",
      "0           0           1      False            2  39.0  False          0.0   \n",
      "1           1           0      False            2  24.0  False        109.0   \n",
      "2           2           1      False            2  58.0   True         43.0   \n",
      "3           3           1      False            2  33.0  False          0.0   \n",
      "4           4           0      False            2  16.0  False        303.0   \n",
      "\n",
      "   FoodCourt  ShoppingMall     Spa  VRDeck  Deck  Num  Side  \n",
      "0        0.0           0.0     0.0     0.0     1    0     0  \n",
      "1        9.0          25.0   549.0    44.0     5    0     1  \n",
      "2     3576.0           0.0  6715.0    49.0     0    0     1  \n",
      "3     1283.0         371.0  3329.0   193.0     0    0     1  \n",
      "4       70.0         151.0   565.0     2.0     5    1     1  \n",
      "0    False\n",
      "1     True\n",
      "2    False\n",
      "3    False\n",
      "4     True\n",
      "Name: Transported, dtype: bool\n"
     ]
    }
   ],
   "source": [
    "import pandas as pd\n",
    "\n",
    "# Load training data\n",
    "df = pd.read_csv(r'../data/train_clean.csv')\n",
    "\n",
    "# Split training set\n",
    "x_train = df.drop('Transported', axis=1)\n",
    "y_train = df['Transported']\n",
    "\n",
    "print(x_train.head())\n",
    "print(y_train.head())"
   ]
  },
  {
   "cell_type": "code",
   "execution_count": 2,
   "metadata": {},
   "outputs": [
    {
     "name": "stdout",
     "output_type": "stream",
     "text": [
      "   Unnamed: 0 PassengerId  HomePlanet CryoSleep  Destination   Age    VIP  \\\n",
      "0           0     0013_01           0      True            2  27.0  False   \n",
      "1           1     0018_01           0     False            2  19.0  False   \n",
      "2           2     0019_01           1      True            0  31.0  False   \n",
      "3           3     0021_01           1     False            2  38.0  False   \n",
      "4           4     0023_01           0     False            2  20.0  False   \n",
      "\n",
      "   RoomService  FoodCourt  ShoppingMall     Spa  VRDeck  Deck  Num  Side  \n",
      "0          0.0        0.0           0.0     0.0     0.0     6  3.0     1  \n",
      "1          0.0        9.0           0.0  2823.0     0.0     5  4.0     1  \n",
      "2          0.0        0.0           0.0     0.0     0.0     2  0.0     1  \n",
      "3          0.0     6652.0           0.0   181.0   585.0     2  1.0     1  \n",
      "4         10.0        0.0         635.0     0.0     0.0     5  5.0     1  \n"
     ]
    }
   ],
   "source": [
    "# Load test data\n",
    "test_df = pd.read_csv(r'../data/test_clean.csv')\n",
    "\n",
    "print(test_df.head())\n",
    "\n",
    "test_df.fillna(test_df.mean(), inplace=True)\n",
    "\n",
    "# Split training set\n",
    "passenger_id = test_df['PassengerId']\n",
    "x_test = test_df.drop('PassengerId', axis=1)"
   ]
  },
  {
   "cell_type": "markdown",
   "metadata": {},
   "source": [
    "### Naive Bayes"
   ]
  },
  {
   "cell_type": "markdown",
   "metadata": {},
   "source": [
    "#### Train"
   ]
  },
  {
   "cell_type": "code",
   "execution_count": 3,
   "metadata": {},
   "outputs": [],
   "source": [
    "# Imports\n",
    "\n",
    "from sklearn.naive_bayes import GaussianNB"
   ]
  },
  {
   "cell_type": "code",
   "execution_count": 4,
   "metadata": {},
   "outputs": [
    {
     "data": {
      "text/plain": [
       "GaussianNB()"
      ]
     },
     "execution_count": 4,
     "metadata": {},
     "output_type": "execute_result"
    }
   ],
   "source": [
    "# Train the model\n",
    "model = GaussianNB()\n",
    "\n",
    "# Train the model using training data\n",
    "model.fit(x_train, y_train)"
   ]
  },
  {
   "cell_type": "markdown",
   "metadata": {},
   "source": [
    "#### Make Predictions"
   ]
  },
  {
   "cell_type": "code",
   "execution_count": 5,
   "metadata": {},
   "outputs": [],
   "source": [
    "# Predict output\n",
    "transported = model.predict(x_test)\n",
    "predicted_naive = pd.DataFrame({'PassengerId': passenger_id, 'Transported': transported})"
   ]
  },
  {
   "cell_type": "code",
   "execution_count": 6,
   "metadata": {},
   "outputs": [
    {
     "name": "stdout",
     "output_type": "stream",
     "text": [
      "  PassengerId  Transported\n",
      "0     0013_01         True\n",
      "1     0018_01        False\n",
      "2     0019_01         True\n",
      "3     0021_01         True\n",
      "4     0023_01         True\n"
     ]
    },
    {
     "data": {
      "text/plain": [
       "(4277, 2)"
      ]
     },
     "execution_count": 6,
     "metadata": {},
     "output_type": "execute_result"
    }
   ],
   "source": [
    "print(predicted_naive.head())\n",
    "predicted_naive.shape"
   ]
  },
  {
   "cell_type": "code",
   "execution_count": 7,
   "metadata": {},
   "outputs": [],
   "source": [
    "predicted_naive.to_csv(r'../data/submission_naive_bayes.csv', index=False)"
   ]
  },
  {
   "cell_type": "markdown",
   "metadata": {},
   "source": [
    "### SVM Classifier"
   ]
  },
  {
   "cell_type": "markdown",
   "metadata": {},
   "source": [
    "#### Train SVM Classifier Model"
   ]
  },
  {
   "cell_type": "code",
   "execution_count": 8,
   "metadata": {},
   "outputs": [
    {
     "data": {
      "text/plain": [
       "Pipeline(steps=[('standardscaler', StandardScaler()),\n",
       "                ('svc', SVC(gamma='auto'))])"
      ]
     },
     "execution_count": 8,
     "metadata": {},
     "output_type": "execute_result"
    }
   ],
   "source": [
    "from sklearn.pipeline import make_pipeline\n",
    "from sklearn.preprocessing import StandardScaler\n",
    "from sklearn.svm import SVC\n",
    "\n",
    "clf = make_pipeline(StandardScaler(), SVC(gamma='auto'))\n",
    "clf.fit(x_train,y_train)"
   ]
  },
  {
   "cell_type": "code",
   "execution_count": 9,
   "metadata": {},
   "outputs": [],
   "source": [
    "transported = clf.predict(x_test)\n",
    "predicted_svm = pd.DataFrame({'PassengerId': passenger_id, 'Transported': transported})"
   ]
  },
  {
   "cell_type": "code",
   "execution_count": 10,
   "metadata": {},
   "outputs": [],
   "source": [
    "predicted_svm.to_csv(r'../data/submission_svm.csv', index=False)"
   ]
  },
  {
   "cell_type": "markdown",
   "metadata": {},
   "source": [
    "### Logistic Regression"
   ]
  },
  {
   "cell_type": "markdown",
   "metadata": {},
   "source": [
    "#### Train Logistic Regression Model"
   ]
  },
  {
   "cell_type": "code",
   "execution_count": 17,
   "metadata": {},
   "outputs": [
    {
     "name": "stderr",
     "output_type": "stream",
     "text": [
      "/Users/gregorypiche/opt/anaconda3/lib/python3.9/site-packages/sklearn/linear_model/_logistic.py:763: ConvergenceWarning: lbfgs failed to converge (status=1):\n",
      "STOP: TOTAL NO. of ITERATIONS REACHED LIMIT.\n",
      "\n",
      "Increase the number of iterations (max_iter) or scale the data as shown in:\n",
      "    https://scikit-learn.org/stable/modules/preprocessing.html\n",
      "Please also refer to the documentation for alternative solver options:\n",
      "    https://scikit-learn.org/stable/modules/linear_model.html#logistic-regression\n",
      "  n_iter_i = _check_optimize_result(\n"
     ]
    },
    {
     "data": {
      "text/plain": [
       "0.7897366030881017"
      ]
     },
     "execution_count": 17,
     "metadata": {},
     "output_type": "execute_result"
    }
   ],
   "source": [
    "from sklearn.linear_model import LogisticRegression\n",
    "\n",
    "logistic_clf = LogisticRegression(random_state=0).fit(x_train,y_train)\n",
    "\n",
    "logistic_clf.score(x_train, y_train)"
   ]
  },
  {
   "cell_type": "markdown",
   "metadata": {},
   "source": [
    "#### Make Predictions"
   ]
  },
  {
   "cell_type": "code",
   "execution_count": 24,
   "metadata": {},
   "outputs": [],
   "source": [
    "transported_logistic = logistic_clf.predict(x_test)"
   ]
  },
  {
   "cell_type": "code",
   "execution_count": 25,
   "metadata": {},
   "outputs": [],
   "source": [
    "predicted_logistic = pd.DataFrame({'PassengerId': passenger_id, 'Transported': transported_logistic})\n",
    "predicted_logistic.to_csv(r'../data/submission_logistic.csv', index=False)"
   ]
  }
 ],
 "metadata": {
  "kernelspec": {
   "display_name": "Python 3.9.7 ('base')",
   "language": "python",
   "name": "python3"
  },
  "language_info": {
   "codemirror_mode": {
    "name": "ipython",
    "version": 3
   },
   "file_extension": ".py",
   "mimetype": "text/x-python",
   "name": "python",
   "nbconvert_exporter": "python",
   "pygments_lexer": "ipython3",
   "version": "3.9.7"
  },
  "orig_nbformat": 4,
  "vscode": {
   "interpreter": {
    "hash": "ad23f71a8806af90f6ae1f83d7186b83c06353bec346c0f649c221cd7aa8ea2e"
   }
  }
 },
 "nbformat": 4,
 "nbformat_minor": 2
}
